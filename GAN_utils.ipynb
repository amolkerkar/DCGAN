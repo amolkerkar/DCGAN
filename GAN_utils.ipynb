{
  "nbformat": 4,
  "nbformat_minor": 0,
  "metadata": {
    "colab": {
      "provenance": [],
      "authorship_tag": "ABX9TyM/4J6ESj4c82jN2jvIOF0g",
      "include_colab_link": true
    },
    "kernelspec": {
      "name": "python3",
      "display_name": "Python 3"
    },
    "language_info": {
      "name": "python"
    }
  },
  "cells": [
    {
      "cell_type": "markdown",
      "metadata": {
        "id": "view-in-github",
        "colab_type": "text"
      },
      "source": [
        "<a href=\"https://colab.research.google.com/github/amolkerkar/DCGAN/blob/main/GAN_utils.ipynb\" target=\"_parent\"><img src=\"https://colab.research.google.com/assets/colab-badge.svg\" alt=\"Open In Colab\"/></a>"
      ]
    },
    {
      "cell_type": "code",
      "execution_count": null,
      "metadata": {
        "id": "iHi1vkTzpv02"
      },
      "outputs": [],
      "source": [
        "import torch\n",
        "import matplotlib.pyplot as plt\n",
        "from torchvision import datasets, transforms\n",
        "import math\n",
        "import itertools\n",
        "import imageio\n",
        "import natsort\n",
        "from glob import glob"
      ]
    },
    {
      "cell_type": "code",
      "source": [
        "def get_data_loader(batch_size):\n",
        "    # MNIST Dataset\n",
        "    transform = transforms.Compose([\n",
        "        transforms.ToTensor(),\n",
        "        transforms.Normalize(mean=(0.1307, ), std=(0.3081, ))])\n",
        "\n",
        "    train_dataset = datasets.MNIST(root='./mnist_data/', train=True, transform=transform, download=True)\n",
        "\n",
        "    # Data Loader\n",
        "    train_loader = torch.utils.data.DataLoader(dataset=train_dataset, batch_size=batch_size, shuffle=True)\n",
        "    return train_loader"
      ],
      "metadata": {
        "id": "Xd1z_gJEp7lR"
      },
      "execution_count": null,
      "outputs": []
    },
    {
      "cell_type": "code",
      "source": [
        "def generate_images(epoch, path, fixed_noise, num_test_samples, netG, device, use_fixed=False):\n",
        "    z = torch.randn(num_test_samples, 100, 1, 1, device=device)\n",
        "    size_figure_grid = int(math.sqrt(num_test_samples))\n",
        "    title = None\n",
        "\n",
        "    if use_fixed:\n",
        "        generated_fake_images = netG(fixed_noise)\n",
        "        path += 'fixed_noise/'\n",
        "        title = 'Fixed Noise'\n",
        "    else:\n",
        "        generated_fake_images = netG(z)\n",
        "        path += 'variable_noise/'\n",
        "        title = 'Variable Noise'\n",
        "\n",
        "    fig, ax = plt.subplots(size_figure_grid, size_figure_grid, figsize=(6,6))\n",
        "    for i, j in itertools.product(range(size_figure_grid), range(size_figure_grid)):\n",
        "        ax[i,j].get_xaxis().set_visible(False)\n",
        "        ax[i,j].get_yaxis().set_visible(False)\n",
        "    for k in range(num_test_samples):\n",
        "        i = k//4\n",
        "        j = k%4\n",
        "        ax[i,j].cla()\n",
        "        ax[i,j].imshow(generated_fake_images[k].data.cpu().numpy().reshape(28,28), cmap='Greys')\n",
        "    label = 'Epoch_{}'.format(epoch+1)\n",
        "    fig.text(0.5, 0.04, label, ha='center')\n",
        "    fig.suptitle(title)\n",
        "    fig.savefig(path+label+'.png')"
      ],
      "metadata": {
        "id": "Kcq65a7Kp_Z4"
      },
      "execution_count": null,
      "outputs": []
    },
    {
      "cell_type": "code",
      "source": [
        "def save_gif(path, fps, fixed_noise=False):\n",
        "    if fixed_noise==True:\n",
        "        path += 'fixed_noise/'\n",
        "    else:\n",
        "        path += 'variable_noise/'\n",
        "    images = glob(path + '*.png')\n",
        "    images = natsort.natsorted(images)\n",
        "    gif = []\n",
        "\n",
        "    for image in images:\n",
        "        gif.append(imageio.imread(image))\n",
        "    imageio.mimsave(path+'animated.gif', gif, fps=fps)"
      ],
      "metadata": {
        "id": "-6bFZKHdqCqz"
      },
      "execution_count": null,
      "outputs": []
    },
    {
      "cell_type": "code",
      "source": [],
      "metadata": {
        "id": "KJisT1EmqFHQ"
      },
      "execution_count": null,
      "outputs": []
    }
  ]
}