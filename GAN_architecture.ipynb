{
  "nbformat": 4,
  "nbformat_minor": 0,
  "metadata": {
    "colab": {
      "provenance": [],
      "authorship_tag": "ABX9TyP0kbqv3GdPezP8aCZgqyCI",
      "include_colab_link": true
    },
    "kernelspec": {
      "name": "python3",
      "display_name": "Python 3"
    },
    "language_info": {
      "name": "python"
    }
  },
  "cells": [
    {
      "cell_type": "markdown",
      "metadata": {
        "id": "view-in-github",
        "colab_type": "text"
      },
      "source": [
        "<a href=\"https://colab.research.google.com/github/amolkerkar/DCGAN/blob/main/GAN_architecture.ipynb\" target=\"_parent\"><img src=\"https://colab.research.google.com/assets/colab-badge.svg\" alt=\"Open In Colab\"/></a>"
      ]
    },
    {
      "cell_type": "code",
      "source": [
        "import torch.nn as nn\n",
        "import torch.nn.functional as F"
      ],
      "metadata": {
        "id": "PB08XBhUpbyh"
      },
      "execution_count": null,
      "outputs": []
    },
    {
      "cell_type": "code",
      "execution_count": null,
      "metadata": {
        "id": "a-XLl0lfpY2c"
      },
      "outputs": [],
      "source": [
        "class Generator(nn.Module):\n",
        "    def __init__(self, nc, nz, ngf):\n",
        "      super(Generator, self).__init__()\n",
        "      self.network = nn.Sequential(\n",
        "          nn.ConvTranspose2d(nz, ngf*4, 4, 1, 0, bias=False),\n",
        "          nn.BatchNorm2d(ngf*4),\n",
        "          nn.ReLU(True),\n",
        "\n",
        "          nn.ConvTranspose2d(ngf*4, ngf*2, 3, 2, 1, bias=False),\n",
        "          nn.BatchNorm2d(ngf*2),\n",
        "          nn.ReLU(True),\n",
        "\n",
        "          nn.ConvTranspose2d(ngf*2, ngf, 4, 2, 1, bias=False),\n",
        "          nn.BatchNorm2d(ngf),\n",
        "          nn.ReLU(True),\n",
        "\n",
        "          nn.ConvTranspose2d(ngf, nc, 4, 2, 1, bias=False),\n",
        "          nn.Tanh()\n",
        "      )\n",
        "\n",
        "    def forward(self, input):\n",
        "      output = self.network(input)\n",
        "      return output\n"
      ]
    },
    {
      "cell_type": "code",
      "source": [
        "class Discriminator(nn.Module):\n",
        "    def __init__(self, nc, ndf):\n",
        "        super(Discriminator, self).__init__()\n",
        "        self.network = nn.Sequential(\n",
        "\n",
        "                nn.Conv2d(nc, ndf, 4, 2, 1, bias=False),\n",
        "                nn.LeakyReLU(0.2, inplace=True),\n",
        "\n",
        "                nn.Conv2d(ndf, ndf * 2, 4, 2, 1, bias=False),\n",
        "                nn.BatchNorm2d(ndf * 2),\n",
        "                nn.LeakyReLU(0.2, inplace=True),\n",
        "\n",
        "                nn.Conv2d(ndf * 2, ndf * 4, 3, 2, 1, bias=False),\n",
        "                nn.BatchNorm2d(ndf * 4),\n",
        "                nn.LeakyReLU(0.2, inplace=True),\n",
        "\n",
        "                nn.Conv2d(ndf * 4, 1, 4, 1, 0, bias=False),\n",
        "                nn.Sigmoid()\n",
        "            )\n",
        "\n",
        "    def forward(self, input):\n",
        "        output = self.network(input)\n",
        "        return output.view(-1, 1).squeeze(1)\n"
      ],
      "metadata": {
        "id": "Ye9A_qQtphG5"
      },
      "execution_count": null,
      "outputs": []
    },
    {
      "cell_type": "code",
      "source": [],
      "metadata": {
        "id": "9HxHeomhpnDF"
      },
      "execution_count": null,
      "outputs": []
    },
    {
      "cell_type": "code",
      "source": [],
      "metadata": {
        "id": "UsQk-KRspooc"
      },
      "execution_count": null,
      "outputs": []
    }
  ]
}